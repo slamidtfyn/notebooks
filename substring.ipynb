{
 "cells": [
  {
   "cell_type": "markdown",
   "metadata": {},
   "source": [
    "# Substring in .NET\n",
    "\n",
    "The usual way of shortening a string in .NET with unknown lenght is something this:"
   ]
  },
  {
   "cell_type": "code",
   "execution_count": 11,
   "metadata": {
    "vscode": {
     "languageId": "csharp"
    }
   },
   "outputs": [],
   "source": [
    "const int MAXLENGTH = 100;\n",
    "var output = \"Hello World!\";"
   ]
  },
  {
   "cell_type": "code",
   "execution_count": 12,
   "metadata": {
    "vscode": {
     "languageId": "csharp"
    }
   },
   "outputs": [
    {
     "name": "stdout",
     "output_type": "stream",
     "text": [
      "Hello World!\n"
     ]
    }
   ],
   "source": [
    "\n",
    "var substringLength = Math.Min(MAXLENGTH, output.Length);\n",
    "Console.WriteLine(output.Substring(0, substringLength));"
   ]
  },
  {
   "cell_type": "markdown",
   "metadata": {},
   "source": [
    "The operation on the is sometimes moved into a method to avoid repetitive code, which is fine"
   ]
  },
  {
   "cell_type": "code",
   "execution_count": 13,
   "metadata": {
    "vscode": {
     "languageId": "csharp"
    }
   },
   "outputs": [
    {
     "name": "stdout",
     "output_type": "stream",
     "text": [
      "HELLO WORLD\n",
      "HELLO\n"
     ]
    }
   ],
   "source": [
    "string trimmed(string input, int maxLength) => input.Substring(0, Math.Min(maxLength, input.Length));\n",
    "\n",
    "Console.WriteLine(trimmed(\"HELLO WORLD\", 100));\n",
    "Console.WriteLine(trimmed(\"HELLO WORLD\", 5));"
   ]
  },
  {
   "cell_type": "markdown",
   "metadata": {},
   "source": [
    "The method still includes the calculation of the max length. This can be done simpler using Linq method Take():"
   ]
  },
  {
   "cell_type": "code",
   "execution_count": 14,
   "metadata": {
    "vscode": {
     "languageId": "csharp"
    }
   },
   "outputs": [
    {
     "name": "stdout",
     "output_type": "stream",
     "text": [
      "HELLO WORLD\n",
      "HELLO\n"
     ]
    }
   ],
   "source": [
    "string trimmed(string input, int maxLength) => string.Concat(\"HELLO WORLD\".Take(maxLength));\n",
    "\n",
    "Console.WriteLine(trimmed(\"HELLO WORLD\", 100));\n",
    "Console.WriteLine(trimmed(\"HELLO WORLD\", 5));"
   ]
  }
 ],
 "metadata": {
  "kernelspec": {
   "display_name": ".NET (C#)",
   "language": "C#",
   "name": ".net-csharp"
  },
  "language_info": {
   "file_extension": ".cs",
   "mimetype": "text/x-csharp",
   "name": "C#",
   "pygments_lexer": "csharp",
   "version": "11.0"
  }
 },
 "nbformat": 4,
 "nbformat_minor": 2
}
