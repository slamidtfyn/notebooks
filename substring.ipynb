{
 "cells": [
  {
   "cell_type": "markdown",
   "metadata": {},
   "source": [
    "# Substring in .NET\n",
    "\n",
    "The usual way of shortening a string in .NET with unknown length is something this:"
   ]
  },
  {
   "cell_type": "code",
   "execution_count": 33,
   "metadata": {
    "vscode": {
     "languageId": "csharp"
    }
   },
   "outputs": [
    {
     "name": "stdout",
     "output_type": "stream",
     "text": [
      "All characters: Hello World!\n"
     ]
    }
   ],
   "source": [
    "var output = \"Hello World!\";\n",
    "var substringLength = Math.Min(100, output.Length);\n",
    "Console.WriteLine(\"All characters: {0}\", output.Substring(0, substringLength));"
   ]
  },
  {
   "cell_type": "markdown",
   "metadata": {},
   "source": [
    "The operation on the is sometimes moved into a method to avoid repetitive code, which is fine"
   ]
  },
  {
   "cell_type": "code",
   "execution_count": 34,
   "metadata": {
    "vscode": {
     "languageId": "csharp"
    }
   },
   "outputs": [
    {
     "name": "stdout",
     "output_type": "stream",
     "text": [
      "All characters: Hello World!\n"
     ]
    }
   ],
   "source": [
    "string trimmed(string input, int maxLength) => input.Substring(0, Math.Min(maxLength, input.Length));\n",
    "\n",
    "Console.WriteLine(\"All characters: {0}\", trimmed(output, 100));"
   ]
  },
  {
   "cell_type": "code",
   "execution_count": 35,
   "metadata": {
    "vscode": {
     "languageId": "csharp"
    }
   },
   "outputs": [
    {
     "name": "stdout",
     "output_type": "stream",
     "text": [
      "Five first characters: Hello\n"
     ]
    }
   ],
   "source": [
    "Console.WriteLine(\"Five first characters: {0}\", trimmed(output, 5));"
   ]
  },
  {
   "cell_type": "markdown",
   "metadata": {},
   "source": [
    "The method still includes the calculation of the max length. This can be done simpler using Linq method Take():"
   ]
  },
  {
   "cell_type": "code",
   "execution_count": 36,
   "metadata": {
    "vscode": {
     "languageId": "csharp"
    }
   },
   "outputs": [
    {
     "name": "stdout",
     "output_type": "stream",
     "text": [
      "All characters: Hello World!\n"
     ]
    }
   ],
   "source": [
    "string trimmed(string input, int maxLength) => string.Concat(input.Take(maxLength));\n",
    "\n",
    "Console.WriteLine(\"All characters: {0}\", trimmed(output, 100));"
   ]
  },
  {
   "cell_type": "code",
   "execution_count": 37,
   "metadata": {
    "vscode": {
     "languageId": "csharp"
    }
   },
   "outputs": [
    {
     "name": "stdout",
     "output_type": "stream",
     "text": [
      "Five first characters: Hello\n"
     ]
    }
   ],
   "source": [
    "Console.WriteLine(\"Five first characters: {0}\", trimmed(output, 5));"
   ]
  }
 ],
 "metadata": {
  "kernelspec": {
   "display_name": ".NET (C#)",
   "language": "C#",
   "name": ".net-csharp"
  },
  "language_info": {
   "file_extension": ".cs",
   "mimetype": "text/x-csharp",
   "name": "C#",
   "pygments_lexer": "csharp",
   "version": "11.0"
  }
 },
 "nbformat": 4,
 "nbformat_minor": 2
}
